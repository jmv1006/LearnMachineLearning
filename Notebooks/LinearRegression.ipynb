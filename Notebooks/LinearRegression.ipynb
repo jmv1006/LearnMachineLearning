{
 "cells": [
  {
   "cell_type": "markdown",
   "metadata": {},
   "source": [
    "# Linear Regression"
   ]
  },
  {
   "cell_type": "markdown",
   "metadata": {},
   "source": [
    "Say we have a dataset and we decide to plot it as so:"
   ]
  },
  {
   "cell_type": "markdown",
   "metadata": {},
   "source": [
    "![title](img/cricketpoints.svg)"
   ]
  },
  {
   "cell_type": "markdown",
   "metadata": {},
   "source": [
    "In this particular case, the x variable is the amount of cricket chirps per minute, and the y variable is the temperature in celsius. \n",
    "\n",
    "We can draw a line \"through\" the data points, as such:"
   ]
  },
  {
   "cell_type": "markdown",
   "metadata": {},
   "source": [
    "![title](img/CricketLine.svg)"
   ]
  },
  {
   "cell_type": "markdown",
   "metadata": {},
   "source": [
    "This shows us that the relationship between chirps per minute and the temperature in celisus is linear. Using mathematics, we know that the equation for a line is\n",
    "> y = mx + b\n",
    "- y is the temperature in celsius\n",
    "- x represents the cricket chirps per minute\n",
    "- b represents the y intercept\n",
    "- m is the slope of the line"
   ]
  },
  {
   "cell_type": "markdown",
   "metadata": {},
   "source": [
    "In ML, the equation is a bit different:\n",
    "> y' = b + w1x1\n",
    "- y' is the label that we are predicting\n",
    "- b is the bias (y intercept)\n",
    "- w1 is the weight of feature one. Weight is the same concept of slope \"m\"\n",
    "- x1 is the feature (known input)"
   ]
  },
  {
   "cell_type": "markdown",
   "metadata": {},
   "source": [
    "In this particular case, our model has only one feature, but in the real world, models can have up to millions of features, denoted\n",
    "> y' = b + w1x1 + w2x2 + w3x3"
   ]
  },
  {
   "cell_type": "markdown",
   "metadata": {},
   "source": [
    "## Training and Loss"
   ]
  },
  {
   "cell_type": "markdown",
   "metadata": {},
   "source": [
    "**Training a model simply means learning (determining) good values for all the weights and the bias from labeled examples**. In supervised learning, an ML algorithm builds a model by examining many examples and attempting to find a model that minimizes **loss**. This process is called empirical risk minimization. "
   ]
  }
 ],
 "metadata": {
  "kernelspec": {
   "display_name": "tensorflow",
   "language": "python",
   "name": "tensorflow"
  },
  "language_info": {
   "codemirror_mode": {
    "name": "ipython",
    "version": 3
   },
   "file_extension": ".py",
   "mimetype": "text/x-python",
   "name": "python",
   "nbconvert_exporter": "python",
   "pygments_lexer": "ipython3",
   "version": "3.10.9"
  }
 },
 "nbformat": 4,
 "nbformat_minor": 1
}
