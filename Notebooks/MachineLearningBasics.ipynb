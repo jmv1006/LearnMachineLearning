{
 "cells": [
  {
   "cell_type": "markdown",
   "id": "2150c1a5",
   "metadata": {},
   "source": [
    "# Machine Learning Basics"
   ]
  },
  {
   "cell_type": "markdown",
   "source": [
    "## What is (Supervised) Machine Learning?\n",
    "Machine Learning (ML) systems learn how to combine input to produce useful predictions on never before seen data"
   ],
   "metadata": {
    "collapsed": false
   }
  },
  {
   "cell_type": "markdown",
   "source": [
    "## Labels\n",
    "A label is what we are predicting, and is noted as the \"y\" variable. Some examples include a future price, the kind of animal in a given\n",
    "photo, etc."
   ],
   "metadata": {
    "collapsed": false
   }
  },
  {
   "cell_type": "markdown",
   "source": [
    "## Features\n",
    "Features are input variables, denoted as the \"x\" variable(s) in simple linear regression. A simple ML project may use a single feature,\n",
    "while more complex projects can use many, denoted as\n",
    "                                                        *x1, x2, ... xn*"
   ],
   "metadata": {
    "collapsed": false
   }
  },
  {
   "cell_type": "markdown",
   "source": [
    "## Examples\n",
    "An example is a particular instance of data, x. Examples are broken down into two categories,\n",
    "- Labeled\n",
    "- Unlabeled\n",
    "\n",
    "A Labeled example includes both features and a label, denoted\n",
    "> labeled examples: {features, label}: (x, y)\n",
    "\n",
    "We used labeled examples to train a model. For example, in a model that predicts home price, the label would be the price of the home itself.\n",
    "\n",
    "An unlabeled example contains features, but no label(s).\n",
    "> unlabeled example: {features, ?}: (x, ?)\n",
    "\n",
    "We use unlabeled examples in order to test a model. For example, if we wanted to test a model that predicts the price of wheat in the\n",
    "future, we would feed it unlabeled examples so that it may predict the label, in this case, the price of wheat."
   ],
   "metadata": {
    "collapsed": false
   }
  },
  {
   "cell_type": "markdown",
   "source": [
    "## Models\n",
    "Models are the heart of ML. They define the relationship between features and labels. For example, a home price prediction model may associate many features strongly with the price of the home, such as total square footage, number of rooms, whether the home has a pool, etc.\n",
    "- Training means creating or learning the model. This is when you show the model labeled examples and allow it to gradually learn the relationship(s) between features and labels.\n",
    "- Inference means applying a trained model to unlabeled examples. In other words, you use the model to make predictions, denoted y'."
   ],
   "metadata": {
    "collapsed": false
   }
  },
  {
   "cell_type": "markdown",
   "source": [
    "## Regression vs. Classification\n",
    "A regression model predicts continuous values. For example, regression models make predictions that answer questions such as\n",
    "- What is the value of a home in California?\n",
    "- What is the probability that a user will click this ad?\n",
    "\n",
    "A classification model predicts discrete values. For example, classification models make predictions that answer questions such as\n",
    "- Is the given email spam or not spam?\n",
    "- Is this image of a cat, dog, or hamster?"
   ],
   "metadata": {
    "collapsed": false
   }
  }
 ],
 "metadata": {
  "kernelspec": {
   "display_name": "tensorflow",
   "language": "python",
   "name": "tensorflow"
  },
  "language_info": {
   "codemirror_mode": {
    "name": "ipython",
    "version": 3
   },
   "file_extension": ".py",
   "mimetype": "text/x-python",
   "name": "python",
   "nbconvert_exporter": "python",
   "pygments_lexer": "ipython3",
   "version": "3.10.9"
  }
 },
 "nbformat": 4,
 "nbformat_minor": 5
}
